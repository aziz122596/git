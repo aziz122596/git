{
  "nbformat": 4,
  "nbformat_minor": 0,
  "metadata": {
    "colab": {
      "provenance": [],
      "authorship_tag": "ABX9TyPGTKXo0lgvfXid2P32EsC0",
      "include_colab_link": true
    },
    "kernelspec": {
      "name": "python3",
      "display_name": "Python 3"
    },
    "language_info": {
      "name": "python"
    }
  },
  "cells": [
    {
      "cell_type": "markdown",
      "metadata": {
        "id": "view-in-github",
        "colab_type": "text"
      },
      "source": [
        "<a href=\"https://colab.research.google.com/github/aziz122596/git/blob/main/%D1%86%D0%B8%D0%BA%D0%BB%D1%8B.ipynb\" target=\"_parent\"><img src=\"https://colab.research.google.com/assets/colab-badge.svg\" alt=\"Open In Colab\"/></a>"
      ]
    },
    {
      "cell_type": "code",
      "execution_count": null,
      "metadata": {
        "colab": {
          "base_uri": "https://localhost:8080/"
        },
        "id": "CauplaszrTZY",
        "outputId": "8059762d-7efd-4561-c6cd-a2e8b67389f7"
      },
      "outputs": [
        {
          "output_type": "stream",
          "name": "stdout",
          "text": [
            "Enter your password: 1\n",
            "incorrect\n",
            "Enter your password: 8\n",
            "incorrect\n",
            "Enter your password: 1234\n",
            "correct\n"
          ]
        }
      ],
      "source": [
        "pas = input(\"Enter your password: \")\n",
        "\n",
        "while pas != '1234':\n",
        "  print('incorrect')\n",
        "  pas = input(\"Enter your password: \")\n",
        "\n",
        "print('correct')\n"
      ]
    },
    {
      "cell_type": "code",
      "source": [
        "x = 15\n",
        "while x >= 1:\n",
        "  print(x)\n",
        "  x = x - 1\n",
        "print('done')"
      ],
      "metadata": {
        "id": "OdjPheHVsWl1"
      },
      "execution_count": null,
      "outputs": []
    },
    {
      "cell_type": "code",
      "source": [
        "x = 0\n",
        "for i in range(365):\n",
        "  print(i)\n",
        "  x = x + 1\n",
        "print('done')"
      ],
      "metadata": {
        "id": "YAGqbvBltxb4"
      },
      "execution_count": null,
      "outputs": []
    },
    {
      "cell_type": "code",
      "source": [
        "a = 0\n",
        "for i in range(1, 151):\n",
        "  a = a + 1\n",
        "  print('we today', i , 'подтягиваниии',a)"
      ],
      "metadata": {
        "id": "La75EMQwu5Qo"
      },
      "execution_count": null,
      "outputs": []
    },
    {
      "cell_type": "code",
      "source": [
        "print('угадай число')\n",
        "print('у тебя 3 попытки')\n",
        "for i in range(3):\n",
        "  b = int(input('вводи число:'))\n",
        "\n",
        "\n",
        "  if b > 15:\n",
        "    print('меньше')\n",
        "  elif b == 15:\n",
        "    print('выйграл')\n",
        "    break\n",
        "  else:\n",
        "    print('больше')\n",
        "\n"
      ],
      "metadata": {
        "colab": {
          "base_uri": "https://localhost:8080/"
        },
        "id": "STERpJtnw20X",
        "outputId": "5f8fea98-31a0-41f3-b038-a82fd7fe4b15"
      },
      "execution_count": null,
      "outputs": [
        {
          "output_type": "stream",
          "name": "stdout",
          "text": [
            "угадай число\n",
            "у тебя 3 попытки\n",
            "вводи число:2\n",
            "больше\n",
            "вводи число:67\n",
            "меньше\n",
            "вводи число:15\n",
            "выйграл\n"
          ]
        }
      ]
    },
    {
      "cell_type": "code",
      "source": [
        "num = [1,2,3,4,5,6,7,8,9,10,11]\n",
        "\n",
        "for i in num:\n",
        "  print(i)\n"
      ],
      "metadata": {
        "id": "UrV0rRNjwpm1"
      },
      "execution_count": null,
      "outputs": []
    },
    {
      "cell_type": "code",
      "source": [
        "mas_sum = 0\n",
        "for i in num:\n",
        "  mas_sum += i\n",
        "print(mas_sum)"
      ],
      "metadata": {
        "colab": {
          "base_uri": "https://localhost:8080/"
        },
        "id": "GlfEi7CO8iWW",
        "outputId": "a181e353-0a90-4fbb-9a5f-b10c6fdae38a"
      },
      "execution_count": null,
      "outputs": [
        {
          "output_type": "stream",
          "name": "stdout",
          "text": [
            "66\n"
          ]
        }
      ]
    },
    {
      "cell_type": "code",
      "source": [
        "eva = [3,4,3,3,2,2,4,0,4,3,2,4,4,4]\n",
        "\n",
        "for i in range(len(eva)):\n",
        "  eva[i] +=1\n",
        "print(eva)"
      ],
      "metadata": {
        "colab": {
          "base_uri": "https://localhost:8080/"
        },
        "id": "GKnBATrN9Lc1",
        "outputId": "69c89c5c-cb72-46f3-dd1d-410b86951341"
      },
      "execution_count": null,
      "outputs": [
        {
          "output_type": "stream",
          "name": "stdout",
          "text": [
            "[4, 5, 4, 4, 3, 3, 5, 1, 5, 4, 3, 5, 5, 5]\n"
          ]
        }
      ]
    },
    {
      "cell_type": "code",
      "source": [
        "text = \"ancfsnjfnnvlvkf\""
      ],
      "metadata": {
        "id": "OLvENDxSLOuG"
      },
      "execution_count": 3,
      "outputs": []
    },
    {
      "cell_type": "code",
      "source": [
        "print(text[:3])"
      ],
      "metadata": {
        "colab": {
          "base_uri": "https://localhost:8080/"
        },
        "id": "IrxO8fY4Y7UG",
        "outputId": "e8be467d-6ca3-4ab9-e16e-c90821b81547"
      },
      "execution_count": 2,
      "outputs": [
        {
          "output_type": "stream",
          "name": "stdout",
          "text": [
            "anc\n"
          ]
        }
      ]
    },
    {
      "cell_type": "code",
      "source": [
        "print(text[3:4])"
      ],
      "metadata": {
        "colab": {
          "base_uri": "https://localhost:8080/"
        },
        "id": "XrvjOHJPZBpA",
        "outputId": "98ed07fe-169c-48e5-ce35-841b909a5f44"
      },
      "execution_count": 3,
      "outputs": [
        {
          "output_type": "stream",
          "name": "stdout",
          "text": [
            "f\n"
          ]
        }
      ]
    },
    {
      "cell_type": "code",
      "source": [
        "print(text[::2])"
      ],
      "metadata": {
        "colab": {
          "base_uri": "https://localhost:8080/"
        },
        "id": "ATfprOmkZguH",
        "outputId": "d1567ac1-1a5f-416b-f8cf-cf4efe1ffb9d"
      },
      "execution_count": 4,
      "outputs": [
        {
          "output_type": "stream",
          "name": "stdout",
          "text": [
            "acsjnvvf\n"
          ]
        }
      ]
    },
    {
      "cell_type": "code",
      "source": [
        "print(text[-2])"
      ],
      "metadata": {
        "colab": {
          "base_uri": "https://localhost:8080/"
        },
        "id": "XEbLS32QZzI6",
        "outputId": "601f76d0-a8c5-41c7-907e-ff04a124da5b"
      },
      "execution_count": 5,
      "outputs": [
        {
          "output_type": "stream",
          "name": "stdout",
          "text": [
            "k\n"
          ]
        }
      ]
    },
    {
      "cell_type": "code",
      "source": [
        "dbc = len(text)\n",
        "last_w = dbc[-4:3]\n",
        "print(\"в предложении есть {} символов, а последнее слово: {}\". format(dbc, last_w))"
      ],
      "metadata": {
        "id": "9LS_0RVtZ85o"
      },
      "execution_count": null,
      "outputs": []
    },
    {
      "cell_type": "code",
      "source": [
        "print(text.find(\"v\"))\n",
        "sometext = \"Привет, как дела как?\"\n",
        "print(sometext.rfind('как'))"
      ],
      "metadata": {
        "colab": {
          "base_uri": "https://localhost:8080/"
        },
        "id": "4SShVij-asSC",
        "outputId": "6624185d-f3fa-44d4-ffc9-cc49e53b1250"
      },
      "execution_count": 4,
      "outputs": [
        {
          "output_type": "stream",
          "name": "stdout",
          "text": [
            "10\n",
            "17\n"
          ]
        }
      ]
    },
    {
      "cell_type": "code",
      "source": [],
      "metadata": {
        "id": "Yzjpo7nKHaIS"
      },
      "execution_count": null,
      "outputs": []
    },
    {
      "cell_type": "code",
      "source": [
        "# print(sometext.count('как'))\n",
        "# print(sometext.replace('как', 'пока'))\n",
        "print(sometext.split (\",\"))\n",
        "print(sometext.upper())\n",
        "print(sometext.lower())\n",
        "print(sometext.capitalize())\n",
        "print(sometext.title())"
      ],
      "metadata": {
        "colab": {
          "base_uri": "https://localhost:8080/"
        },
        "id": "IHCvVtB1jIWv",
        "outputId": "fb1fa2fd-4d9f-4c09-a8cd-9158c1042528"
      },
      "execution_count": 19,
      "outputs": [
        {
          "output_type": "stream",
          "name": "stdout",
          "text": [
            "['Привет', ' как дела как?']\n",
            "ПРИВЕТ, КАК ДЕЛА КАК?\n",
            "привет, как дела как?\n",
            "Привет, как дела как?\n",
            "Привет, Как Дела Как?\n"
          ]
        }
      ]
    },
    {
      "cell_type": "code",
      "source": [
        "print(sometext.replace(\"?\",\"!\"))\n",
        "print(sometext.replace(\"как\", \"Азиз\"))"
      ],
      "metadata": {
        "colab": {
          "base_uri": "https://localhost:8080/"
        },
        "id": "OiYDNbpglHaI",
        "outputId": "b50cc224-29e1-4f28-c2a8-5d885c4149a9"
      },
      "execution_count": 7,
      "outputs": [
        {
          "output_type": "stream",
          "name": "stdout",
          "text": [
            "Привет, как дела как!\n",
            "Привет, Азиз дела Азиз?\n"
          ]
        }
      ]
    },
    {
      "cell_type": "code",
      "source": [
        "a = 1\n",
        "while a <=13:\n",
        "  a = a + 1\n",
        "  print(a)\n",
        "  if a == 13:\n",
        "    print(\"vse\")"
      ],
      "metadata": {
        "id": "TbojbgyAIIo9"
      },
      "execution_count": null,
      "outputs": []
    },
    {
      "cell_type": "code",
      "source": [
        "x = 10\n",
        "while x !=0:\n",
        "  print(x)\n",
        "  x = x - 1\n",
        "  print(\"мы посчитали x, и теперь он равен\", x)\n",
        "print(\"цикл закончился\")"
      ],
      "metadata": {
        "colab": {
          "base_uri": "https://localhost:8080/"
        },
        "id": "cwRxQLYSJ9cz",
        "outputId": "f1e65dd6-4f7c-4ef6-ddc9-62d2038bc2a5"
      },
      "execution_count": 16,
      "outputs": [
        {
          "output_type": "stream",
          "name": "stdout",
          "text": [
            "10\n",
            "мы посчитали x, и теперь он равен 9\n",
            "9\n",
            "мы посчитали x, и теперь он равен 8\n",
            "8\n",
            "мы посчитали x, и теперь он равен 7\n",
            "7\n",
            "мы посчитали x, и теперь он равен 6\n",
            "6\n",
            "мы посчитали x, и теперь он равен 5\n",
            "5\n",
            "мы посчитали x, и теперь он равен 4\n",
            "4\n",
            "мы посчитали x, и теперь он равен 3\n",
            "3\n",
            "мы посчитали x, и теперь он равен 2\n",
            "2\n",
            "мы посчитали x, и теперь он равен 1\n",
            "1\n",
            "мы посчитали x, и теперь он равен 0\n",
            "цикл закончился\n"
          ]
        }
      ]
    },
    {
      "cell_type": "code",
      "source": [],
      "metadata": {
        "id": "ejzopvEKTb9t"
      },
      "execution_count": null,
      "outputs": []
    }
  ]
}